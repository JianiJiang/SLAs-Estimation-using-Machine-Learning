{
 "cells": [
  {
   "cell_type": "markdown",
   "metadata": {},
   "source": [
    "# Task III - Estimating SLA Conformance and Violation from Device Statistics\n",
    "\n",
    "  The objective for this task is to build a binary classifier function that estimates whether the VoD service conforms to the given SLA (18 frames/second) for specific device statistics X, or whether the service violates the SLA for a specific value of X.\n",
    "  \n",
    "  You apply logistic regression to build the classifier. As in the previous task, build a training set and a test set from the trace data, containing 70% of the observations and 30% of the observations, respectively.\n"
   ]
  },
  {
   "cell_type": "markdown",
   "metadata": {
    "collapsed": true
   },
   "source": [
    "## 1 Model Training\n",
    "Model Training - use Logistic Regression to train a classifier C with the training set. Provide the coeffcients (⇥0,...,⇥10) of your model C. (⇥0 is the o↵set.) Give no more than three significant digits.\n",
    "\n",
    "\n",
    "## 2\n",
    "Accuracy of the Classifiers C - Compute the classification error (ERR) on the test set for C. For this, you first compute the confusion matrix, which includes the four numbers True Positives (TP), True Negatives (TN), False Positives (FN), and False Negatives (FN). We define the classification error as ERR = 1   T P +T N , whereby m is the number of observations in the test set. A true positive is an m observation that is correctly classified by the classifier as conforming to the SLA; a true negative is an observation that is correctly classified by the classifier as violating the SLA. Use confusion matrix plot to show TP,TN,FP, and FN.\n"
   ]
  },
  {
   "cell_type": "markdown",
   "metadata": {},
   "source": [
    "### Solution:"
   ]
  },
  {
   "cell_type": "code",
   "execution_count": 4,
   "metadata": {},
   "outputs": [
    {
     "name": "stdout",
     "output_type": "stream",
     "text": [
      "Coefficients:  [[-9.38e-03  5.07e-03 -9.12e-03 -6.65e-06 -2.19e-03  9.94e-02  2.27e-03\n",
      "  -7.43e-05  3.09e-02 -5.15e-02]]\n",
      "ERR = 0.070\n",
      "[[466  41]\n",
      " [ 35 538]]\n"
     ]
    },
    {
     "data": {
      "image/png": "[encoded data removed]",
      "text/plain": [
       "<Figure size 1200x600 with 2 Axes>"
      ]
     },
     "metadata": {},
     "output_type": "display_data"
    }
   ],
   "source": [
    "import itertools\n",
    "import matplotlib.pyplot as plt\n",
    "import numpy as np\n",
    "import pandas as pd\n",
    "from sklearn import linear_model\n",
    "from sklearn.model_selection import train_test_split\n",
    "from sklearn import preprocessing\n",
    "from sklearn import utils\n",
    "from sklearn import metrics\n",
    "\n",
    "# Read X,Y traces into pandas DataFrames named X,Y\n",
    "X = pd.read_csv('X.csv')\n",
    "Y = pd.read_csv('Y.csv')\n",
    "\n",
    "#create a single frame with selected columns\n",
    "X_features = ['plist-sz', 'totsck','ldavg-1','pgfree/s','proc/s',\n",
    "              'all_%%usr','file-nr','cswch/s','%%memused','runq-sz']\n",
    "Y_features = ['DispFrames','low rate']\n",
    "\n",
    "#create a new column of \"low rate\". if DisFrame >=18, it conforms to the SLA and will be set True. \n",
    "Y['low rate'] = Y['DispFrames']>= 18\n",
    "\n",
    "# multiply it with 1 to change the set from True, False to 1, 0\n",
    "Y['low rate'] = Y['low rate']*1 \n",
    "\n",
    "#concatenate X[X_features], Y[Y_features] along a particular axis=1, a DataFrame is returned.\n",
    "#Combine DataFrame objects horizontally along the x axis by passing in axis=1.\n",
    "#(axis=0, a Series is returned)\n",
    "XY = pd.concat([X[X_features], Y[Y_features]], axis=1)\n",
    "\n",
    "# Producing training set and test set\n",
    "train, test = train_test_split(XY, test_size = 0.3)\n",
    "\n",
    "# Sort the train and test sets, sort_index defaults to column-wise(axis=0)\n",
    "train = train.sort_index()\n",
    "test = test.sort_index()\n",
    "\n",
    "# Extract X,Y components from test and train sets\n",
    "X_train = train[X_features]\n",
    "X_test = test[X_features]\n",
    "Y_train = train['low rate']\n",
    "Y_test = test['low rate']\n",
    "\n",
    "#Do logistic regression, C is the Inverse of regularization strength and default to be 1. \n",
    "#I set it as a big number of 1e5, which is 100000, to have the minimize regularization in order to avoid overfitting.\n",
    "logreg = linear_model.LogisticRegression(C=1e5)\n",
    "\n",
    "#Fit logistic model.\n",
    "logreg.fit(X_train,Y_train)\n",
    "\n",
    "#print coefficients\n",
    "np.set_printoptions(precision=2)\n",
    "print(\"Coefficients: \", logreg.coef_)\n",
    "\n",
    "#predic\n",
    "Y_pred = logreg.predict(X_test)\n",
    "\n",
    "\n",
    "#==================================\n",
    "#show TP,TN,FP,FN and ERR\n",
    "#plot confusion matrix\n",
    "\n",
    "#define the plotting function\n",
    "def plot_confusion_matrix(cm, classes,\n",
    "                          title='Confusion matrix'):    \n",
    "    print(cm)\n",
    "    #Display an image of cm data \n",
    "    plt.imshow(cm)\n",
    "    plt.title(title)\n",
    "    #Add a colorbar to a plot\n",
    "    plt.colorbar()\n",
    "    #get the range of X axis for X location\n",
    "    xlocations = np.array(range(len(classes)))\n",
    "    \n",
    "    #set the current tick locations and labels of the x-axis.\n",
    "    plt.xticks(xlocations, classes)\n",
    "    plt.yticks(xlocations, classes)\n",
    "    \n",
    "    plt.ylabel('True label')\n",
    "    plt.xlabel('Predicted label')\n",
    "\n",
    "# Compute confusion matrix\n",
    "cnf_matrix = metrics.confusion_matrix(Y_test, Y_pred)\n",
    "TP = cnf_matrix[0][0]\n",
    "FP = cnf_matrix[0][1]\n",
    "FN = cnf_matrix[1][0]\n",
    "TN = cnf_matrix[1][1]\n",
    " \n",
    "ERR = 1 - ((TP+TN)/1080)\n",
    "print(\"ERR = %.3f\" %ERR)\n",
    "\n",
    "# Plot confusion matrix: design the size and resolution of the figure.\n",
    "plt.figure(figsize=(10,5), dpi=120)\n",
    "\n",
    "# return evenly spaced values within a given interval. Return [0,1]\n",
    "ind_array = np.arange(2)\n",
    "\n",
    "#Return coordinate matrices from coordinate vectors [0,1] [0,1].\n",
    "x_mesh, y_mesh = np.meshgrid(ind_array, ind_array)\n",
    "\n",
    "#Flatten() is to return a copy of the array collapsed into one dimension.\n",
    "#zip() returns a object, which is an iterator of tuples where item in each iterator is paired together\n",
    "for x_val, y_val in zip(x_mesh.flatten(), y_mesh.flatten()):\n",
    "    #Get the value of TP, TN, FP, FN\n",
    "    c = cnf_matrix[y_val][x_val]\n",
    "    plt.text(x_val, y_val, c, color='red', fontsize=15, va='center', ha='center')\n",
    "\n",
    "plot_confusion_matrix(cnf_matrix, classes=['Y_test','Y_pred'])\n",
    "plt.show()\n",
    "\n",
    "\n"
   ]
  },
  {
   "cell_type": "markdown",
   "metadata": {
    "collapsed": true
   },
   "source": [
    "## 3\n",
    "As a baseline for C, use a naive method which relies on Y values only, as follows. For each x belongs to X, the naive classifier predicts a value True with probability p and False with probability 1 - p. p is the fraction of Y values that conform with the SLA. Compute p on the training set and the classification error for the naive classifier on the test set.\n"
   ]
  },
  {
   "cell_type": "code",
   "execution_count": 2,
   "metadata": {
    "scrolled": true
   },
   "outputs": [
    {
     "name": "stdout",
     "output_type": "stream",
     "text": [
      "naive classifier p = 0.533\n",
      "ERR = 0.498\n"
     ]
    }
   ],
   "source": [
    "#Naive method: predicts target variable in test set (Y_test) based on the knowledge of train set (train_Y) naively\n",
    "#classifier is the mean of Y_train, the values are averagely around p\n",
    "p = Y_train.mean()\n",
    "print(\"naive classifier p = %.3f\" %p)\n",
    "\n",
    "#Correctly classified by the classifier as conforming to the SLA\n",
    "TP_naive = Y_test & 1\n",
    "#correctly classified by the classifier as violating the SLA\n",
    "TN_naive = 1-(Y_test | 0)\n",
    "ERR = 1 - ((sum(TP_naive)*p +sum(TN_naive)*(1-p))/1080)\n",
    "print(\"ERR = %.3f\" %ERR)\n",
    "\n",
    "\n"
   ]
  },
  {
   "cell_type": "markdown",
   "metadata": {
    "collapsed": true
   },
   "source": [
    "## 4\n",
    "Build a new classifier by extending extend the linear regression function developed in Task II with a check on the output, i.e., the Video Frame Rate. If the frame rate for a given X is above the SLA threshold, then the Y label of the classifier is set to conformance, otherwise to violation. Compute the new classifier on the training set and the classification error for this new classifier on the test set.\n"
   ]
  },
  {
   "cell_type": "code",
   "execution_count": 3,
   "metadata": {},
   "outputs": [
    {
     "name": "stdout",
     "output_type": "stream",
     "text": [
      "Coefficients: [-1.60e-02  1.82e-03 -7.85e-04 -6.15e-06 -1.01e-02  9.28e-02 -3.19e-03\n",
      " -8.22e-05  4.27e-01 -1.02e-02]\n",
      "[[462  44]\n",
      " [ 31 543]]\n",
      "ERR = 0.069\n"
     ]
    },
    {
     "data": {
      "image/png": "[encoded data removed]",
      "text/plain": [
       "<Figure size 1200x600 with 2 Axes>"
      ]
     },
     "metadata": {},
     "output_type": "display_data"
    }
   ],
   "source": [
    "#get original Y_train of parameter \"DispFrames\"\n",
    "Y_train_linear = train['DispFrames']\n",
    "#Do linear regression\n",
    "regr = linear_model.LinearRegression()\n",
    "regr.fit(X_train, Y_train_linear)\n",
    "\n",
    "#print coefficence, set precision to 2.\n",
    "np.set_printoptions(precision=2)\n",
    "print(\"Coefficients:\", regr.coef_)\n",
    "\n",
    "#predict from X_test, and transfer to DataFrame with title of DispFrames\n",
    "Y_predict = regr.predict(X_test)\n",
    "Y_predict =pd.DataFrame({'DispFrames': Y_predict})\n",
    "\n",
    "#create a new column of \"low rate\". If DisFrame >=18, it conforms to the SLA and will be set True.\n",
    "Y_predict['low rate'] = Y_predict['DispFrames']> 18\n",
    "\n",
    "# multiply it with 1 to change the set from True, False to 1, 0\n",
    "Y_predict['low rate'] = Y_predict['low rate']*1 \n",
    "\n",
    "#convert from Series to DataFrame\n",
    "Y_pre_linear = pd.DataFrame(Y_predict['low rate'])\n",
    "\n",
    "#comput confusion matrix\n",
    "cnf_matrix_naive = metrics.confusion_matrix(Y_test, Y_pre_linear)\n",
    "\n",
    "#print TP, TN, FP, FN of confusion matrix\n",
    "np.set_printoptions(precision=2) \n",
    "print(cnf_matrix_naive)\n",
    "\n",
    "#calculate ERR\n",
    "TP_naive = cnf_matrix_naive[0][0]\n",
    "FP_naive = cnf_matrix_naive[0][1]\n",
    "FN_naive = cnf_matrix_naive[1][0]\n",
    "TN_naive = cnf_matrix_naive[1][1]\n",
    "ERR_naive = 1 - ((TP_naive+TN_naive)/1080)\n",
    "print(\"ERR = %.3f\" %ERR_naive)\n",
    "\n",
    "#define the plotting function\n",
    "def plot_confusion_matrix(cm, classes,\n",
    "                          title='Confusion matrix'):    \n",
    "    #Display an image of cm data\n",
    "    plt.imshow(cm)\n",
    "    plt.title(title)\n",
    "    plt.colorbar()\n",
    "    xlocations = np.array(range(len(classes)))\n",
    "    \n",
    "    #Get or set the current tick locations and labels of the x-axis.\n",
    "    plt.xticks(xlocations, classes)\n",
    "    plt.yticks(xlocations, classes)\n",
    "    \n",
    "    plt.ylabel('True label')\n",
    "    plt.xlabel('Predicted label')\n",
    "\n",
    "# Plot confusion matrix: design the size and resolution of the figure.\n",
    "plt.figure(figsize=(10,5), dpi=120)\n",
    "\n",
    "# return evenly spaced values within a given interval. Return [0,1]\n",
    "ind_array = np.arange(2)\n",
    "\n",
    "#Return coordinate matrices from coordinate vectors [0,1] [0,1].\n",
    "x_mesh, y_mesh = np.meshgrid(ind_array, ind_array) \n",
    "for x_val, y_val in zip(x_mesh.flatten(), y_mesh.flatten()):\n",
    "    c = cnf_matrix_naive[y_val][x_val]\n",
    "    plt.text(x_val, y_val, c, color='red', fontsize=7, va='center', ha='center')\n",
    "\n",
    "plot_confusion_matrix(cnf_matrix_naive, classes=['Y_test','Y_pred'])\n",
    "plt.show()\n"
   ]
  },
  {
   "cell_type": "code",
   "execution_count": null,
   "metadata": {},
   "outputs": [],
   "source": []
  }
 ],
 "metadata": {
  "kernelspec": {
   "display_name": "Python 3",
   "language": "python",
   "name": "python3"
  },
  "language_info": {
   "codemirror_mode": {
    "name": "ipython",
    "version": 3
   },
   "file_extension": ".py",
   "mimetype": "text/x-python",
   "name": "python",
   "nbconvert_exporter": "python",
   "pygments_lexer": "ipython3",
   "version": "3.6.5"
  }
 },
 "nbformat": 4,
 "nbformat_minor": 2
}
