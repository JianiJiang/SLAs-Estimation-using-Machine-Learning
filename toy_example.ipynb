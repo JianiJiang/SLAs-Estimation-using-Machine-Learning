{
 "cells": [
  {
   "cell_type": "code",
   "execution_count": 31,
   "metadata": {},
   "outputs": [
    {
     "name": "stdout",
     "output_type": "stream",
     "text": [
      "Coefficients for Logistic Regression: [[7.71]]\n",
      "Intercept: [-2.31]\n",
      "Confusion matrix for Logistic Regression: \n",
      " [[13  0]\n",
      " [ 1 16]]\n",
      "ERR for Logistic Regression:  [0.03]\n"
     ]
    }
   ],
   "source": [
    "import numpy as np\n",
    "from sklearn import linear_model\n",
    "from sklearn.model_selection import train_test_split\n",
    "import pandas as pd\n",
    "from sklearn import metrics\n",
    "\n",
    "# Gaussian noise\n",
    "xmin, xmax = -5, 5\n",
    "n_samples = 100\n",
    "np.random.seed(0)\n",
    "X = np.random.normal(size=n_samples)\n",
    "y = (X > 0).astype(np.float)\n",
    "X[X > 0] *= 4\n",
    "X += .3 * np.random.normal(size=n_samples)\n",
    "\n",
    "X = X[:, np.newaxis]\n",
    "X = X.reshape(100,1)\n",
    "y = y.reshape(100,1)\n",
    "\n",
    "XY = np.concatenate((X, y), axis=1)\n",
    "train, test = train_test_split(XY, test_size = 0.3)\n",
    "\n",
    "X_train = (train[:,0]).reshape(70,1)\n",
    "Y_train = (train[:,1]).reshape(70,1)\n",
    "X_test = (test[:,0]).reshape(30,1)\n",
    "Y_test = (test[:,1]).reshape(30,1)\n",
    "# run the classifier\n",
    "clf = linear_model.LogisticRegression(C=1e5)\n",
    "\n",
    "clf.fit(X_train, np.ravel(Y_train,order='C'))\n",
    "predict = (clf.predict(X_test)).reshape(30,1)\n",
    "\n",
    "print(\"Coefficients for Logistic Regression:\", clf.coef_)\n",
    "print(\"Intercept:\", clf.intercept_)\n",
    "\n",
    "Y_predict = pd.DataFrame(predict,columns=[\"low rate\"])\n",
    "Y_test_df = pd.DataFrame(Y_test,columns=[\"low rate\"])\n",
    "\n",
    "cnf_matrix_logis = metrics.confusion_matrix(Y_test_df, Y_predict)\n",
    "print(\"Confusion matrix for Logistic Regression: \\n\",cnf_matrix_logis)\n",
    "\n",
    "TP = predict * Y_test\n",
    "TN = 1 - np.maximum(predict , Y_test)\n",
    "ERR = 1 - ((sum(TP)+sum(TN))/len(Y_predict))\n",
    "\n",
    "print(\"ERR for Logistic Regression: \",ERR)"
   ]
  },
  {
   "cell_type": "code",
   "execution_count": 32,
   "metadata": {},
   "outputs": [
    {
     "name": "stdout",
     "output_type": "stream",
     "text": [
      "Coefficients for Linear Regression: [[0.12]]\n",
      "Intercept: [0.39]\n",
      "Confusion matrix for Logistic Regression: \n",
      " [[15  2]\n",
      " [ 0 13]]\n",
      "Error of classifier based on the linear regression 0.06666666666666665\n"
     ]
    }
   ],
   "source": [
    "from sklearn import linear_model\n",
    "\n",
    "# Create linear regression object\n",
    "regr = linear_model.LinearRegression()\n",
    "\n",
    "# Train the model using the training set\n",
    "regr.fit(X_train, Y_train)\n",
    "\n",
    "# Print the model coefficients\n",
    "np.set_printoptions(precision=2)\n",
    "print(\"Coefficients for Linear Regression:\", regr.coef_)\n",
    "print(\"Intercept:\", regr.intercept_)\n",
    "\n",
    "# Compute the mean squared error of the model over the test set\n",
    "Y_pred = regr.predict(X_test)\n",
    "#NMAE = np.mean(np.abs(Y_pred - Y_test))/Y_test.mean()\n",
    "#print(\"Normalized Mean Absolute Error (NMAE): %.2f\" %NMAE)\n",
    "\n",
    "pred = np.zeros(len(Y_pred),dtype=int)\n",
    "for i in range(len(Y_pred)):\n",
    "    if (Y_pred[i]<0.5):\n",
    "        pred[i] = 1\n",
    "    else:\n",
    "        pred[i] = 0\n",
    "        \n",
    "y_test = np.zeros(len(Y_test),dtype=int)\n",
    "for i in range(len(Y_test)):\n",
    "    if (Y_test[i]<0.5):\n",
    "        y_test[i] = 1\n",
    "    else:\n",
    "        y_test[i] = 0\n",
    "        \n",
    "\n",
    "Y_pred = pd.DataFrame(pred,columns=[\"low rate\"])\n",
    "y_test_df = pd.DataFrame(y_test,columns=[\"low rate\"])        \n",
    "cnf_matrix_linear = metrics.confusion_matrix(y_test_df, Y_pred)\n",
    "print(\"Confusion matrix for Logistic Regression: \\n\",cnf_matrix_linear)\n",
    "# Compute confusion matrix\n",
    "TP = pred * y_test\n",
    "TN = 1 - np.maximum(pred , y_test)\n",
    "ERR = 1 - ((sum(TP)+sum(TN))/len(pred))\n",
    "\n",
    "print(\"Error of classifier based on the linear regression\",ERR)"
   ]
  },
  {
   "cell_type": "code",
   "execution_count": null,
   "metadata": {},
   "outputs": [],
   "source": []
  },
  {
   "cell_type": "code",
   "execution_count": null,
   "metadata": {},
   "outputs": [],
   "source": []
  }
 ],
 "metadata": {
  "kernelspec": {
   "display_name": "Python 3",
   "language": "python",
   "name": "python3"
  },
  "language_info": {
   "codemirror_mode": {
    "name": "ipython",
    "version": 3
   },
   "file_extension": ".py",
   "mimetype": "text/x-python",
   "name": "python",
   "nbconvert_exporter": "python",
   "pygments_lexer": "ipython3",
   "version": "3.6.5"
  }
 },
 "nbformat": 4,
 "nbformat_minor": 2
}
